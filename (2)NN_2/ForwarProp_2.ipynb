{
 "cells": [
  {
   "cell_type": "markdown",
   "id": "d63b2ba1-1f50-46fe-a4de-46800064ab8c",
   "metadata": {},
   "source": [
    "# ForwardPropagation on neural net which has also hidden layer with intput and output layer"
   ]
  },
  {
   "cell_type": "code",
   "execution_count": 6,
   "id": "403dfe0c-7a01-4b6e-bdf2-82dbe0d2e63a",
   "metadata": {},
   "outputs": [],
   "source": [
    "# IMporting libraries\n",
    "import numpy as np"
   ]
  },
  {
   "cell_type": "code",
   "execution_count": 7,
   "id": "9f675aea-550a-4510-985e-1ba7df4a5c6d",
   "metadata": {},
   "outputs": [
    {
     "name": "stdout",
     "output_type": "stream",
     "text": [
      "[[0 0]\n",
      " [0 1]\n",
      " [1 0]\n",
      " [1 1]]\n"
     ]
    },
    {
     "data": {
      "text/plain": [
       "array([[0],\n",
       "       [0],\n",
       "       [0],\n",
       "       [1]])"
      ]
     },
     "execution_count": 7,
     "metadata": {},
     "output_type": "execute_result"
    }
   ],
   "source": [
    "# Creating our own input and outpput datasets (AND)\n",
    "X = np.array([[0,0],[0,1],[1,0],[1,1]]) \n",
    "Y = np.array([[0,0,0,1]]).reshape(-1,1) # reshaped it to 2D array or matrix just like X \n",
    "print(X)\n",
    "Y"
   ]
  },
  {
   "cell_type": "markdown",
   "id": "430e1a54-45b9-4161-8da2-cd62bde9288b",
   "metadata": {},
   "source": [
    "## Defining sigmoid function"
   ]
  },
  {
   "cell_type": "code",
   "execution_count": 8,
   "id": "5ccf0ad1-2163-4fe0-b386-ec31ba8bc9a4",
   "metadata": {},
   "outputs": [],
   "source": [
    "def sig(z):\n",
    "    return (1/(1+np.exp(-z)))"
   ]
  },
  {
   "cell_type": "markdown",
   "id": "34a98f87-5093-420e-913e-e019db25388f",
   "metadata": {},
   "source": [
    "## Defining Weights as per having one hidden layer, that is from input neuron to hideen neuron"
   ]
  },
  {
   "cell_type": "code",
   "execution_count": 22,
   "id": "8f9a60bd-6cc6-4540-95d6-acd1b0a291a9",
   "metadata": {},
   "outputs": [
    {
     "name": "stdout",
     "output_type": "stream",
     "text": [
      "(2, 2)\n"
     ]
    },
    {
     "data": {
      "text/plain": [
       "array([[ 0.41435992, -0.8167367 ],\n",
       "       [ 0.25580858, -0.15167325]])"
      ]
     },
     "execution_count": 22,
     "metadata": {},
     "output_type": "execute_result"
    }
   ],
   "source": [
    "# Intilize random weights to start with forward propagation\n",
    "# From np.random module, a random function is there, which provides random number as given the shape parametrs, so we required 2 rows and 2 column, as from 2-input-neuron to 2-hidden-neuron -> (2,2)\n",
    "weights_hidden = 2*np.random.random((2,2))-1 #But it would give numbers in range of 0 to 1 , but we required -1 to 1, so we first multiply it with 2, so that range became 0 to 2, and then substracted by 1 so that range became -1 to 1 \n",
    "print(weights_hidden.shape)\n",
    "weights_hidden # As we reuired ideal weights to be from -1 to 1 and should be in 2D. as co be equal to 1 "
   ]
  },
  {
   "cell_type": "markdown",
   "id": "2d376dfb-4335-45af-9716-2e088a8e62cf",
   "metadata": {},
   "source": [
    "## Defining the bias as per having one hidden layer, that is from input neuron to hidden neuron"
   ]
  },
  {
   "cell_type": "code",
   "execution_count": 41,
   "id": "bf124914-2931-4371-8749-1f49cdae4a9f",
   "metadata": {},
   "outputs": [
    {
     "data": {
      "text/plain": [
       "array([-0.85530597,  0.19168994])"
      ]
     },
     "execution_count": 41,
     "metadata": {},
     "output_type": "execute_result"
    }
   ],
   "source": [
    "# Defining the biases\n",
    "bias_hidden = 2*np.random.random(2)-1\n",
    "bias_hidden"
   ]
  },
  {
   "cell_type": "markdown",
   "id": "14622918-58eb-421b-b71d-dd2a4e0e8966",
   "metadata": {},
   "source": [
    "## Now defining the weights and biases from hiddden layer to output layer"
   ]
  },
  {
   "cell_type": "code",
   "execution_count": 53,
   "id": "9beafe94-c4b7-4440-933e-bb7d5139401b",
   "metadata": {},
   "outputs": [
    {
     "name": "stdout",
     "output_type": "stream",
     "text": [
      "(2, 1)\n"
     ]
    },
    {
     "data": {
      "text/plain": [
       "array([[ 0.97957961],\n",
       "       [-0.64007166]])"
      ]
     },
     "execution_count": 53,
     "metadata": {},
     "output_type": "execute_result"
    }
   ],
   "source": [
    "# Intilize random weights to start with forward propagation\n",
    "# From np.random module, a random function is there, which provides random number as given the shape parametrs, so we required 2 rows and 2 column, as from 2-input-neuron to 2-hidden-neuron -> (2,2)\n",
    "weights_output = 2*np.random.random((2,1))-1 #But it would give numbers in range of 0 to 1 , but we required -1 to 1, so we first multiply it with 2, so that range became 0 to 2, and then substracted by 1 so that range became -1 to 1 \n",
    "print(weights_output.shape)\n",
    "weights_output # As we reuired ideal weights to be from -1 to 1 and should be in 2D. as co be equal to 1 "
   ]
  },
  {
   "cell_type": "code",
   "execution_count": 57,
   "id": "4d15e76d-d336-4171-bc47-e2cf86b09852",
   "metadata": {},
   "outputs": [
    {
     "data": {
      "text/plain": [
       "array([0.64968683])"
      ]
     },
     "execution_count": 57,
     "metadata": {},
     "output_type": "execute_result"
    }
   ],
   "source": [
    "# Defining the biases\n",
    "bias_output = 2*np.random.random(1)-1\n",
    "bias_output"
   ]
  },
  {
   "cell_type": "markdown",
   "id": "6bac9b47-9e5b-4faa-9668-8fc8ece993ad",
   "metadata": {},
   "source": [
    "## Construction of Neural netowrk and impliemntation of it"
   ]
  },
  {
   "cell_type": "code",
   "execution_count": 58,
   "id": "6a266573-24c4-42d1-bb92-5b23dc4186ba",
   "metadata": {},
   "outputs": [
    {
     "data": {
      "text/plain": [
       "array([[0.70486173, 0.38938597],\n",
       "       [0.75516769, 0.35398522],\n",
       "       [0.7832857 , 0.21983457],\n",
       "       [0.82357027, 0.19492761]])"
      ]
     },
     "execution_count": 58,
     "metadata": {},
     "output_type": "execute_result"
    }
   ],
   "source": [
    "# Implimentation of first connection of NN, that input_layer -> hidden_layer\n",
    "inputHidden = X\n",
    "outputHidden = sig(np.dot(inputHidden, weights_hidden)+bias_hidden)\n",
    "outputHidden"
   ]
  },
  {
   "cell_type": "code",
   "execution_count": 59,
   "id": "fc114084-3660-470d-8448-58263c886e20",
   "metadata": {},
   "outputs": [
    {
     "data": {
      "text/plain": [
       "array([[0.74855494],\n",
       "       [0.7618516 ],\n",
       "       [0.78181378],\n",
       "       [0.79111704]])"
      ]
     },
     "execution_count": 59,
     "metadata": {},
     "output_type": "execute_result"
    }
   ],
   "source": [
    "# Implimnetation of second connection of NN, that is hidden_layer->output_layer\n",
    "output = sig(np.dot(outputHidden, weights_output)+bias_output)\n",
    "output"
   ]
  }
 ],
 "metadata": {
  "kernelspec": {
   "display_name": "Python 3 (ipykernel)",
   "language": "python",
   "name": "python3"
  },
  "language_info": {
   "codemirror_mode": {
    "name": "ipython",
    "version": 3
   },
   "file_extension": ".py",
   "mimetype": "text/x-python",
   "name": "python",
   "nbconvert_exporter": "python",
   "pygments_lexer": "ipython3",
   "version": "3.10.9"
  }
 },
 "nbformat": 4,
 "nbformat_minor": 5
}
