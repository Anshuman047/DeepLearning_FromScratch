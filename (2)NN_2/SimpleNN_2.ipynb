{
 "cells": [
  {
   "cell_type": "code",
   "execution_count": 106,
   "id": "59a65986-aea2-47f2-a8e6-69affc98e700",
   "metadata": {},
   "outputs": [],
   "source": [
    "import numpy as np"
   ]
  },
  {
   "cell_type": "code",
   "execution_count": 107,
   "id": "46a16f4d-d42a-4fa9-929f-371450413f3a",
   "metadata": {},
   "outputs": [
    {
     "data": {
      "text/plain": [
       "((4, 2), (4, 1))"
      ]
     },
     "execution_count": 107,
     "metadata": {},
     "output_type": "execute_result"
    }
   ],
   "source": [
    "X = np.array([[0,0],[0,1],[1,0],[1,1]])\n",
    "Y = np.array([[0,0,0,1]]).T\n",
    "X.shape , Y.shape"
   ]
  },
  {
   "cell_type": "code",
   "execution_count": 129,
   "id": "f086ec1c-e9e2-4c79-94bf-9efd7ceeaddf",
   "metadata": {},
   "outputs": [],
   "source": [
    "weights = 2*np.random.random((2,1))-1\n",
    "biase = 2*np.random.random(1)-1"
   ]
  },
  {
   "cell_type": "code",
   "execution_count": 109,
   "id": "5ef6099e-2f4e-457b-a497-d78346c3a921",
   "metadata": {},
   "outputs": [],
   "source": [
    "def sig(z):\n",
    "    return 1/(1+np.exp(-z))"
   ]
  },
  {
   "cell_type": "code",
   "execution_count": 110,
   "id": "09dbda75-df17-4dfe-9255-dfb3a64e23ba",
   "metadata": {},
   "outputs": [],
   "source": [
    "def derivativeSig(z):\n",
    "    return sig(z)*(1-sig(z))"
   ]
  },
  {
   "cell_type": "code",
   "execution_count": 111,
   "id": "1662681a-47ad-42e4-bdae-0db51ceef8b6",
   "metadata": {},
   "outputs": [],
   "source": [
    "output = sig(np.dot(X,weights)+biase)"
   ]
  },
  {
   "cell_type": "code",
   "execution_count": 112,
   "id": "3ad90e48-dde5-4204-81a0-62efd789330a",
   "metadata": {},
   "outputs": [],
   "source": [
    "first = output - Y"
   ]
  },
  {
   "cell_type": "code",
   "execution_count": 113,
   "id": "d7313855-d459-409a-97b9-11ecb0d29d7e",
   "metadata": {},
   "outputs": [],
   "source": [
    "second = derivativeSig(output)"
   ]
  },
  {
   "cell_type": "code",
   "execution_count": 114,
   "id": "30c17832-8195-4443-a3f3-2f18ace94c39",
   "metadata": {},
   "outputs": [],
   "source": [
    "firstTwo = first * second"
   ]
  },
  {
   "cell_type": "markdown",
   "id": "0a7771ac-1cb1-414e-9eaa-fef862b23c9d",
   "metadata": {},
   "source": [
    "## Above everything same as SimpleNN, but changes here we would not use loop for getting weightNew matrix on firstTwo and input, rather we would tranpose the input and get the dot product from firstTwo, as now the dimnesoion would be compatible and directly we would get the weightNew matrix"
   ]
  },
  {
   "cell_type": "code",
   "execution_count": 126,
   "id": "ed6ef0ca-02c2-4efa-a2e7-97f542a43794",
   "metadata": {},
   "outputs": [],
   "source": [
    "lr = 0.01"
   ]
  },
  {
   "cell_type": "code",
   "execution_count": 134,
   "id": "83e87c0b-f190-4374-8b50-ca5f6a6aac0e",
   "metadata": {},
   "outputs": [
    {
     "name": "stdout",
     "output_type": "stream",
     "text": [
      "[[1.19449746e-04]\n",
      " [3.90462787e-02]\n",
      " [3.90469346e-02]\n",
      " [9.32526050e-01]]\n",
      "[[5.82937332]\n",
      " [5.82935584]]\n",
      "[-9.03255407]\n"
     ]
    }
   ],
   "source": [
    "# This would reduce the complexity of the code, this is the vectorised code\n",
    "for iter in range(10000):  \n",
    "    output = sig(np.dot(X,weights)+biase)\n",
    "    first = output - Y\n",
    "    second = derivativeSig(output)\n",
    "    firstTwo = first * second\n",
    "    \n",
    "    weightsNew = np.dot(X.T,firstTwo) # Got the dot product of both\n",
    "    weights = weights - lr * weightsNew\n",
    "    biaseNew = np.sum(firstTwo)\n",
    "    biase = biase - lr*biaseNew\n",
    "print(output)\n",
    "print(weights)\n",
    "print(biase)"
   ]
  }
 ],
 "metadata": {
  "kernelspec": {
   "display_name": "Python 3 (ipykernel)",
   "language": "python",
   "name": "python3"
  },
  "language_info": {
   "codemirror_mode": {
    "name": "ipython",
    "version": 3
   },
   "file_extension": ".py",
   "mimetype": "text/x-python",
   "name": "python",
   "nbconvert_exporter": "python",
   "pygments_lexer": "ipython3",
   "version": "3.10.9"
  }
 },
 "nbformat": 4,
 "nbformat_minor": 5
}
