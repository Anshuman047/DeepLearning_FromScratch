{
 "cells": [
  {
   "cell_type": "markdown",
   "id": "24616090-b3c0-4c07-8c6a-306a823ecf21",
   "metadata": {},
   "source": [
    "# MNIST_Tf implimentation\n",
    "### This images contains handwritten digits from 0->9\n",
    "### NN has to classify handwritten handWritten digit_images into their respective digits from 0->9 "
   ]
  },
  {
   "cell_type": "code",
   "execution_count": 355,
   "id": "f8a5b8b7-ab6d-4d39-bbe1-c91ba243a03e",
   "metadata": {},
   "outputs": [],
   "source": [
    "import tensorflow as tf\n",
    "tf.compat.v1.disable_eager_execution\n",
    "import numpy as np\n",
    "import matplotlib.pyplot as plt"
   ]
  },
  {
   "cell_type": "markdown",
   "id": "193d9fbd-1d08-49d1-8b54-38b945e95bba",
   "metadata": {},
   "source": [
    "## Loading MNIST datasets"
   ]
  },
  {
   "cell_type": "code",
   "execution_count": 356,
   "id": "67439e51-ca01-4f66-9a1e-4d83aba93175",
   "metadata": {},
   "outputs": [],
   "source": [
    "# Load the MNIST dataset from tensorflow_keras\n",
    "(X_train,Y_train),(X_test,Y_test) = tf.keras.datasets.mnist.load_data() #Same functionality as below, below shows how its saved\n",
    "## It would give tupple => ([X_train,Y_train],[X_test,Y_test]) , firstIndex have list for training and second has a list for testing \n",
    "mnist = tf.keras.datasets.mnist.load_data()  \n",
    "X_train = mnist[0][0] #Would give X_train \n",
    "Y_train = mnist[0][1] #Would give X_train\n",
    "X_test = mnist[1][0] #Would give X_train\n",
    "Y_test = mnist[1][1] #Would give X_train\n"
   ]
  },
  {
   "cell_type": "code",
   "execution_count": 357,
   "id": "37388efd-d4d7-4fce-9338-4dd546464190",
   "metadata": {},
   "outputs": [
    {
     "name": "stdout",
     "output_type": "stream",
     "text": [
      "<class 'tuple'>\n"
     ]
    },
    {
     "data": {
      "text/plain": [
       "23"
      ]
     },
     "execution_count": 357,
     "metadata": {},
     "output_type": "execute_result"
    }
   ],
   "source": [
    "# Above dataset is like this\n",
    "tupple = ([11,23],[34,45])\n",
    "print(type(tupple))\n",
    "tupple[0][1]"
   ]
  },
  {
   "cell_type": "code",
   "execution_count": 358,
   "id": "fae8fc1b-5ca4-4995-a907-dee7201da6b7",
   "metadata": {},
   "outputs": [
    {
     "name": "stdout",
     "output_type": "stream",
     "text": [
      "(60000, 28, 28)\n",
      "(10000, 28, 28)\n",
      "\n",
      "(60000,)\n",
      "(10000,)\n",
      "[7 2 1 ... 4 5 6]\n"
     ]
    }
   ],
   "source": [
    "# Total 70,000 MNIST handwritten images\n",
    "# (28,28) means 28 width size and 28 height size, total pixels are 784\n",
    "print(X_train.shape) #X are the matrix of size 28x28, having pixel values in them\n",
    "print(X_test.shape)\n",
    "print()\n",
    "# Y refers to the image labels, means which digit is written in the image\n",
    "print(Y_train.shape)\n",
    "print(Y_test.shape)\n",
    "print(Y_test)"
   ]
  },
  {
   "cell_type": "markdown",
   "id": "b7dfc77a-d413-4827-bcfb-875cd738e770",
   "metadata": {
    "tags": []
   },
   "source": [
    "## OneHot endcoding for Y labels, for multiclass classification"
   ]
  },
  {
   "cell_type": "code",
   "execution_count": 359,
   "id": "b959c004-5389-439f-93d9-1ec945d6d22d",
   "metadata": {},
   "outputs": [
    {
     "data": {
      "text/plain": [
       "(60000, 10)"
      ]
     },
     "execution_count": 359,
     "metadata": {},
     "output_type": "execute_result"
    }
   ],
   "source": [
    "#Y_labels are integers values, it has to be converted into oneHot endcoding, to be get recognised from the neuron\n",
    "#And integer lables have be oneHotEncoded while training\n",
    "Y_train = tf.keras.utils.to_categorical(Y_train , num_classes=10) #OneHot Encoded to 10 classes \n",
    "Y_test = tf.keras.utils.to_categorical(Y_test , num_classes=10) #Same with testingLabels\n",
    "Y_train.shape "
   ]
  },
  {
   "cell_type": "markdown",
   "id": "250d4148-2a8b-4f42-92b6-95c6ed12f3e5",
   "metadata": {},
   "source": [
    "## Displaying the images"
   ]
  },
  {
   "cell_type": "code",
   "execution_count": 360,
   "id": "c2c3fef4-0e3a-4086-a1f1-551782af1c6e",
   "metadata": {
    "tags": []
   },
   "outputs": [
    {
     "name": "stdout",
     "output_type": "stream",
     "text": [
      "(28, 28)\n"
     ]
    },
    {
     "data": {
      "image/png": "[encoded data removed]",
      "text/plain": [
       "<Figure size 640x480 with 1 Axes>"
      ]
     },
     "metadata": {},
     "output_type": "display_data"
    },
    {
     "data": {
      "text/plain": [
       "array([0., 0., 0., 0., 0., 1., 0., 0., 0., 0.], dtype=float32)"
      ]
     },
     "execution_count": 360,
     "metadata": {},
     "output_type": "execute_result"
    }
   ],
   "source": [
    "# If the images are already flattend means, all pixels_value converted in a 1D-list, then we have to reshped into equal row and column or original row and col, bcz image can only be plotted when they were not flattend\n",
    "# To plot image, row and columns should be known  \n",
    "# But here already they are row and col, so no reshape, if not so, then we had to use .reshape((28,28)), after every image, as parent row,col here is 28,28\n",
    "first_image = X_train[0] #Plotting firstImage\n",
    "print(first_image.shape)\n",
    "plt.imshow(first_image) #Building use matplotlib.pyplot\n",
    "plt.show()\n",
    "Y_train[0] #Label representing 5 (starting from 0)"
   ]
  },
  {
   "cell_type": "code",
   "execution_count": 361,
   "id": "e490b9e1-0c8f-4f4d-80fb-337901158e39",
   "metadata": {},
   "outputs": [
    {
     "name": "stdout",
     "output_type": "stream",
     "text": [
      "(60000, 784)\n",
      "(10000, 784)\n"
     ]
    }
   ],
   "source": [
    "# Reshaping images's size from 2D shape to 1D -> flattening\n",
    "# Current shape of images (no. of images, image.size(28,28))\n",
    "# So passes image parameter, then told that no. of images remain as it is\n",
    "# Then '-1' shows that convert remaing 2D to 1D, compenstae the remaining size by multiplying with other,\n",
    "# 28x28 = 784\n",
    "X_train = np.reshape(X_train, (X_train.shape[0], -1))\n",
    "print(X_train.shape)\n",
    "\n",
    "X_test = np.reshape(X_test, (X_test.shape[0], -1))\n",
    "print(X_test.shape)\n",
    "\n",
    "# # Initialize TensorFlow session\n",
    "# with tf.compat.v1.Session() as sess:\n",
    "#     # Evaluate the tensor within the session to get its value as a numpy array\n",
    "#     X_train_np = sess.run(X_train)\n",
    "#     X_test_np = sess.run(X_test)\n",
    "#     print(X_train_np.shape)"
   ]
  },
  {
   "cell_type": "markdown",
   "id": "a642198f-95b4-4e18-b6c4-9f4c8e68f251",
   "metadata": {},
   "source": [
    "## Building the NN\n",
    "### All parameters(W,B) would be variables, not placeHolders(As user willnot provide value) and constant"
   ]
  },
  {
   "cell_type": "code",
   "execution_count": 362,
   "id": "3754c345-2cb4-4944-a9b7-f33c4f89f7ca",
   "metadata": {},
   "outputs": [
    {
     "name": "stdout",
     "output_type": "stream",
     "text": [
      "[[0.6604403 0.996176 ]]\n"
     ]
    }
   ],
   "source": [
    "# Creating a array having randomly selected number from normal distribution, \n",
    "# -would use for putting random values in weights \n",
    "tf.compat.v1.disable_eager_execution()\n",
    "sess = tf.compat.v1.Session()\n",
    "print(sess.run(tf.compat.v1.random_normal([1,2]))) #Inside sqBracs required shape, can take shape of any kind\n",
    "# Hence here is no processing of elements with each other is there, so no session req"
   ]
  },
  {
   "cell_type": "code",
   "execution_count": 363,
   "id": "b2a38ce7-06e1-4c8d-a2cf-a251e9bae019",
   "metadata": {},
   "outputs": [],
   "source": [
    "# Intilialising no. of units in each layer\n",
    "n_input = 784\n",
    "n_hidden_1 = 256\n",
    "n_hidden_2 = 256\n",
    "n_output = 10\n",
    "\n",
    "# Initialsing weightsDictionary, in which key is layer, and value will be array of the weights of that layer \n",
    "weights = {\n",
    "    'h1':tf.Variable(tf.compat.v1.random_normal([n_input,n_hidden_1])), #Hence got 2D list with 784_rows(input_neuron) and 256_cols(H1_Neuron) \n",
    "    'h2':tf.Variable(tf.compat.v1.random_normal([n_hidden_1,n_hidden_2])), #265x256\n",
    "    'out':tf.Variable(tf.compat.v1.random_normal([n_hidden_2,n_output])) #256x10\n",
    "}\n",
    "\n",
    "# Initialsing BiasesDictionary, in which key is layer, and value will be array of the biases for that layer \n",
    "biases = {\n",
    "    'h1':tf.Variable(tf.compat.v1.random_normal([n_hidden_1])), #1D list having 1x256 parameter of biases\n",
    "    'h2':tf.Variable(tf.compat.v1.random_normal([n_hidden_2])), # 1x256\n",
    "    'out':tf.Variable(tf.compat.v1.random_normal([n_output])) # 1x10\n",
    "}\n"
   ]
  },
  {
   "cell_type": "markdown",
   "id": "d07b5c19-94c1-46a7-a915-d3f423461e31",
   "metadata": {},
   "source": [
    "## Forward Propagation"
   ]
  },
  {
   "cell_type": "code",
   "execution_count": 364,
   "id": "faebec66-d6cc-494f-b734-8d2d194ed4ea",
   "metadata": {},
   "outputs": [
    {
     "data": {
      "text/plain": [
       "<function tensorflow.python.ops.gen_nn_ops.relu(features, name=None)>"
      ]
     },
     "execution_count": 364,
     "metadata": {},
     "output_type": "execute_result"
    }
   ],
   "source": [
    "tf.nn.relu # Relu-Function"
   ]
  },
  {
   "cell_type": "code",
   "execution_count": 365,
   "id": "958ca4a2-b9f7-4403-ba45-79e89aa18e9f",
   "metadata": {},
   "outputs": [],
   "source": [
    "def forwardPropagation(X , weight , biases):\n",
    "    Input_h1 = tf.matmul(X , weights['h1']) + biases['h1']\n",
    "    Output_h1 = tf.nn.relu(Input_h1)\n",
    "    \n",
    "    Input_h2 = tf.matmul(Output_h1 , weights['h2']) + biases['h2']\n",
    "    Output_h2 = tf.nn.relu(Input_h2)\n",
    "    \n",
    "    Input_out = tf.matmul(Output_h2, weights['out']) + biases['out']\n",
    "    return Input_out # Output has no actication function\n",
    "    "
   ]
  },
  {
   "cell_type": "code",
   "execution_count": 366,
   "id": "e2da225e-07bc-4a4c-95e7-11f42ec8ea6c",
   "metadata": {},
   "outputs": [
    {
     "data": {
      "text/plain": [
       "(60000, 10)"
      ]
     },
     "execution_count": 366,
     "metadata": {},
     "output_type": "execute_result"
    }
   ],
   "source": [
    "Y_train.shape"
   ]
  },
  {
   "cell_type": "markdown",
   "id": "2f420001-1f62-4c6d-bdbb-e9d70966115a",
   "metadata": {},
   "source": [
    "### Running Fp"
   ]
  },
  {
   "cell_type": "code",
   "execution_count": 367,
   "id": "ff8935d5-0aee-4c91-9c94-99e346df40bb",
   "metadata": {},
   "outputs": [
    {
     "name": "stdout",
     "output_type": "stream",
     "text": [
      "Tensor(\"Placeholder_142:0\", shape=(None, 784), dtype=float32) Tensor(\"Placeholder_143:0\", shape=(None, 10), dtype=float32)\n"
     ]
    }
   ],
   "source": [
    "# Applying placeholders in X and Y, so that we could change from training to testing when we want\n",
    "# Both train and test, no. images(rows) are different but columns(Flattend_size) is same\n",
    "sess = tf.compat.v1.Session()\n",
    "# sess.run(tf.compat.v1.global_variables_initializer()) #In case of variable intilisation , have to call this command, which makes above variables as global\n",
    "X = tf.compat.v1.placeholder(tf.float32,[None,784]) # None means, any number could come\n",
    "Y = tf.compat.v1.placeholder(tf.float32,[None, 10])\n",
    "\n",
    "pred = forwardPropagation(X , weights, biases)\n",
    "sess.run(tf.compat.v1.global_variables_initializer()) #In case of variable intilisation , have to call this command, which makes above variables as global\n",
    "\n",
    "#Hence output would be a Matrix same as Y_true of size 10, so we have to find that index having maxValue at each row, means vertically, \n",
    "# - so axis would be 1\n",
    "prediction = tf.argmax(pred, axis=1)\n",
    "true_labels = tf.argmax(Y, axis=1)\n",
    "\n",
    "#Accuracy\n",
    "correct_predictions = tf.equal(prediction , true_labels) #Will return boolean list, if same true es=lse false\n",
    "print(X,Y)"
   ]
  },
  {
   "cell_type": "markdown",
   "id": "9ae8869c-057d-48da-802f-822b7f583690",
   "metadata": {},
   "source": [
    "### Prediction and performance"
   ]
  },
  {
   "cell_type": "code",
   "execution_count": 407,
   "id": "0e7ae03e-62e6-4709-81ca-7483d83d5b18",
   "metadata": {},
   "outputs": [
    {
     "name": "stdout",
     "output_type": "stream",
     "text": [
      "(60000,)\n",
      "[2 2 2 ... 2 2 2]\n",
      "(60000,)\n",
      "[5 0 4 ... 5 6 8]\n",
      "[False False False ... False False False]\n"
     ]
    },
    {
     "data": {
      "text/plain": [
       "'The correct matches are :6574'"
      ]
     },
     "execution_count": 407,
     "metadata": {},
     "output_type": "execute_result"
    }
   ],
   "source": [
    "#Now running the session to execute the implimentation/process\n",
    "sess = tf.compat.v1.Session()\n",
    "sess.run(tf.compat.v1.global_variables_initializer()) #In case of variable intilisation , have to call this command, which makes above variables as global\n",
    "\n",
    "prediction_evaluated , labels , correctness= sess.run([prediction,true_labels,correct_predictions], feed_dict={X: X_train, Y: Y_train})\n",
    "print(prediction_evaluated.shape)\n",
    "print(prediction_evaluated)\n",
    "print(labels.shape)\n",
    "print(labels)\n",
    "print(correctness)\n",
    "\n",
    "# Check how many correct \n",
    "f\"The correct matches are :{correctness.sum()}\" #Would sum the items in list, as True represent = 1 and false = 0"
   ]
  },
  {
   "cell_type": "markdown",
   "id": "4959db0d-7972-4d3e-aec1-c000796c4efd",
   "metadata": {},
   "source": [
    "## Backward Propagation"
   ]
  },
  {
   "cell_type": "markdown",
   "id": "ae33f577-6186-4835-9d09-721547573344",
   "metadata": {},
   "source": [
    "### Defining the cross_entropy loss cost function"
   ]
  },
  {
   "cell_type": "code",
   "execution_count": 410,
   "id": "2be8f5b3-093e-45b8-a5d4-57c876f092f6",
   "metadata": {
    "tags": []
   },
   "outputs": [
    {
     "name": "stdout",
     "output_type": "stream",
     "text": [
      "437909.97\n",
      "[629709.44 748496.1  745062.4  ... 593984.56  21177.   519320.62]\n"
     ]
    },
    {
     "data": {
      "text/plain": [
       "tuple"
      ]
     },
     "execution_count": 410,
     "metadata": {},
     "output_type": "execute_result"
    }
   ],
   "source": [
    "# Found the mean off the costFunction as its was containg the 10K or 60K losses\n",
    "# TO reduce this to one, founded the mean of all \n",
    "cost_withOut_Mean = tf.nn.softmax_cross_entropy_with_logits(logits=pred , labels = Y) # Would give list/tuple of 10k or 60k losses, losses of each datapoints \n",
    "cost = tf.reduce_mean(tf.nn.softmax_cross_entropy_with_logits(logits=pred , labels = Y)) # Would find the mean of all loses \n",
    "cost_value , not_meaned_cost = sess.run([cost,cost_withOut_Mean], feed_dict={X: X_train, Y: Y_train})\n",
    "print(cost_value)\n",
    "print(not_meaned_cost)\n",
    "type(not_meaned_cost.shape)"
   ]
  },
  {
   "cell_type": "markdown",
   "id": "1f49cc9d-50d7-4e00-be03-8c7257bbdbc8",
   "metadata": {},
   "source": [
    "### Intilalising the AdamOptimizer, which gonna minimize the cost from gradientDescnt tehcnique"
   ]
  },
  {
   "cell_type": "code",
   "execution_count": 411,
   "id": "1051f164-e428-40ff-9fa3-d7402d3c0021",
   "metadata": {},
   "outputs": [],
   "source": [
    "optimizer = tf.compat.v1.train.AdamOptimizer(learning_rate=0.01)\n",
    "optimize = optimizer.minimize(cost)\n",
    "sess.run(tf.compat.v1.global_variables_initializer()) #In case of variable intilisation , have to call this command, which makes above variables as global\n",
    "# Above required for Optmizer, as its a variable"
   ]
  },
  {
   "cell_type": "markdown",
   "id": "fecfb37c-dc24-48e8-809d-f436938071da",
   "metadata": {},
   "source": [
    "### Now running the optimizer, for whole datapoints then after changing the weights and biases"
   ]
  },
  {
   "cell_type": "code",
   "execution_count": 414,
   "id": "fa1e621a-b34c-479e-bae5-6d23bd40f8bc",
   "metadata": {},
   "outputs": [],
   "source": [
    "# Itertavily change call the optimzer which would find the global minima and minimize the cost\n",
    "for i in range(100):\n",
    "    c,_=sess.run([cost,optimize], feed_dict={X:X_train , Y:Y_train}) #Processing the optimizer with cost\n",
    "print(c)"
   ]
  },
  {
   "cell_type": "code",
   "execution_count": 417,
   "id": "f5d3f028-7203-4719-9b56-b9fe9e96de18",
   "metadata": {},
   "outputs": [
    {
     "name": "stdout",
     "output_type": "stream",
     "text": [
      "(60000,)\n",
      "[5 0 4 ... 5 6 8]\n",
      "(60000,)\n",
      "[5 0 4 ... 5 6 8]\n",
      "[ True  True  True ...  True  True  True]\n",
      "Correct : 60000\n",
      "Missed : 0\n"
     ]
    }
   ],
   "source": [
    "prediction_evaluated , labels , correctness= sess.run([prediction,true_labels,correct_predictions], feed_dict={X: X_train, Y: Y_train})\n",
    "print(prediction_evaluated.shape)\n",
    "print(prediction_evaluated)\n",
    "print(labels.shape)\n",
    "print(labels)\n",
    "print(correctness)\n",
    "print(\"Correct :\",np.sum(correctness))\n",
    "print(\"Missed :\",X_train.shape[0]-np.sum(correctness))"
   ]
  },
  {
   "cell_type": "markdown",
   "id": "05146526-bbc3-4a73-8bc3-9a24e0c28ea8",
   "metadata": {
    "tags": []
   },
   "source": [
    "### Now running the optimizer for small batches first then changing the weights"
   ]
  },
  {
   "cell_type": "code",
   "execution_count": null,
   "id": "8c4fb045-1553-4c87-bb11-6d8326e08df1",
   "metadata": {},
   "outputs": [],
   "source": [
    "# Itertavily change call the optimzer which would find the global minima and minimize the cost \n",
    "# And change the parameters after every batch of datapoints\n",
    "batch_size = 100\n",
    "# Total bacthes would be 60,000/100=600, so the optimizer would run over the batch\n",
    "for i in range(25):\n",
    "    num_batches = X_train.shape[0]//batch_size\n",
    "    c,_=sess.run([cost,optimize], feed_dict={X:X_train , Y:Y_train}) #Processing the optimizer with cost\n",
    "print(c)"
   ]
  }
 ],
 "metadata": {
  "kernelspec": {
   "display_name": "Python 3 (ipykernel)",
   "language": "python",
   "name": "python3"
  },
  "language_info": {
   "codemirror_mode": {
    "name": "ipython",
    "version": 3
   },
   "file_extension": ".py",
   "mimetype": "text/x-python",
   "name": "python",
   "nbconvert_exporter": "python",
   "pygments_lexer": "ipython3",
   "version": "3.10.9"
  }
 },
 "nbformat": 4,
 "nbformat_minor": 5
}
