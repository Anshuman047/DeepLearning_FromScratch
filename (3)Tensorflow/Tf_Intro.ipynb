{
 "cells": [
  {
   "cell_type": "markdown",
   "id": "448233a3-ed26-443f-bf4f-dbfbed68eaa6",
   "metadata": {},
   "source": [
    "# Intro to tensorflow\n",
    "### (*)TensorFlow 2.x with eager execution, you can work with variables and tensors more interactively, without the need for a separate session to run operations. The operations are executed on the fly as you call them. If you were using TensorFlow 1.x, you would need to create a session and explicitly run it to evaluate the operations.\n",
    "### (*) From \"tf.compat.v1.-----\" migrate any methods from 1x into 2x\n",
    "### (*) We could use:\"tf.compat.v1.disable_eager_execution() #v2 is bydefault eager executer means sponatenius/immidiate execution followed here, but if we use comds from v1 then it wouldnot be executed, and give error, as they donot expect eagerness. To stop this ,used disable_eager_execution\", run this code before the method, which donot required eagerness, like placeholder from v1, it donot require it like for everyMethod from v1 but right before all for avoiding error\n",
    "### (*) As 1.x was not spantneous executer we have use disable_eager simultanously while using 1.x comds"
   ]
  },
  {
   "cell_type": "code",
   "execution_count": 1,
   "id": "95651d98-799c-46ed-b69e-cb79834e5c74",
   "metadata": {},
   "outputs": [
    {
     "data": {
      "text/plain": [
       "'2.13.0'"
      ]
     },
     "execution_count": 1,
     "metadata": {},
     "output_type": "execute_result"
    }
   ],
   "source": [
    "import tensorflow as tf\n",
    "import numpy as np\n",
    "tf.__version__"
   ]
  },
  {
   "cell_type": "markdown",
   "id": "2d763548-69f1-42af-8031-53585bca65a4",
   "metadata": {},
   "source": [
    "## Creating constants in tensorflow"
   ]
  },
  {
   "cell_type": "code",
   "execution_count": 192,
   "id": "0e06dc59-dbb1-48f7-9d6d-bce0f0ed62aa",
   "metadata": {},
   "outputs": [
    {
     "name": "stdout",
     "output_type": "stream",
     "text": [
      "Tensor(\"Const:0\", shape=(), dtype=int32)\n"
     ]
    }
   ],
   "source": [
    "const = tf.constant(2) #const here now basically is tensor object, any object created here would be termed as tensor object having a constant number in it \n",
    "print(const) #will print tensor object containing the contant"
   ]
  },
  {
   "cell_type": "markdown",
   "id": "c87b9727-eed9-4542-93db-4c99f3a98cd3",
   "metadata": {},
   "source": [
    "### Addition of two constant tensor object, normal addition in v2\n"
   ]
  },
  {
   "cell_type": "code",
   "execution_count": 96,
   "id": "1a1ede78-3675-4630-90d5-62a97346664b",
   "metadata": {},
   "outputs": [
    {
     "name": "stdout",
     "output_type": "stream",
     "text": [
      "tf.Tensor(7, shape=(), dtype=int32)\n",
      "tf.Tensor(9, shape=(), dtype=int32)\n"
     ]
    }
   ],
   "source": [
    "const1 = tf.constant(3)\n",
    "const2 = tf.constant(4)\n",
    "const3 = const1+const2 #Would result in constant tensor object after any processing irrespective what are the participants \n",
    "print(const3) #shape tells the dimension  \n",
    "print(tf.add(a,b)) #same as above"
   ]
  },
  {
   "cell_type": "markdown",
   "id": "73730c48-3e15-4b3b-9f38-09e97a3ac5d2",
   "metadata": {},
   "source": [
    "## Session\n",
    "### Addition using Sessions from v1\n"
   ]
  },
  {
   "cell_type": "code",
   "execution_count": 269,
   "id": "78fc36d3-4c63-4e45-a59b-783010467072",
   "metadata": {},
   "outputs": [
    {
     "name": "stdout",
     "output_type": "stream",
     "text": [
      "-5\n",
      "15\n",
      "Tensor(\"add_54:0\", shape=(), dtype=int32)\n",
      "Tensor(\"sub_28:0\", shape=(), dtype=int32)\n"
     ]
    }
   ],
   "source": [
    "#So we can use sessions from migrating it from v1 of tf,\n",
    "#For any processing works, we required to run that in session\n",
    "#For that we have to migrate it from v1 to here at v2 and disable the eagerness of v2 and use it, bcz due to eagerness as code written for processing would executed, when runnin the cell(v2) like in above cell \n",
    "#But without it (v1), no processing code is executed while running, only can be done using session\n",
    "\n",
    "#So lets use session for addition susbs\n",
    "tf.compat.v1.disable_eager_execution\n",
    "a = tf.constant(5)\n",
    "b = tf.constant(10)\n",
    "w = a+b #Its a empty tensorObject has add function in it\n",
    "d = a-b #Its a empty tensor object has subs function in it, as in v1, eager execution donot happen so no addition till not runned with session\n",
    "\n",
    "sess = tf.compat.v1.Session() #Making object of Session\n",
    "diff=sess.run(d) #This would return the processed value, but the d-parameter would be still empty tensorObject \n",
    "print(diff) #The processed value saved in python variable\n",
    "\n",
    "sum1 = sess.run(w)\n",
    "print(sum1)\n",
    "#Still empty tensorObjects:\n",
    "print(w)\n",
    "print(d)"
   ]
  },
  {
   "cell_type": "markdown",
   "id": "b67cdf21-7c23-48b6-b4a3-88988b0d6dfd",
   "metadata": {},
   "source": [
    "## GoodWay of writing sessions\n"
   ]
  },
  {
   "cell_type": "code",
   "execution_count": 29,
   "id": "9250ec97-5e16-4feb-ae7e-724d4cbc579a",
   "metadata": {},
   "outputs": [
    {
     "name": "stdout",
     "output_type": "stream",
     "text": [
      "30\n",
      "30\n",
      "30\n"
     ]
    }
   ],
   "source": [
    "# Lets have simple example:\n",
    "a = tf.constant(10)\n",
    "b = tf.constant(20)\n",
    "c = a+b\n",
    "d = tf.add(a,b)\n",
    "\n",
    "tf.compat.v1.disable_eager_execution\n",
    "#Instead of creating session object, create it in a scope:\n",
    "with tf.compat.v1.Session() as sess: #Outside this block session closed\n",
    "    #Everything I have to do with this sessionObject, write them under this loop\n",
    "    print(sess.run(c)) #Either this work, also work outside of this sessionBlock, as once the object declared can be used anywhere, but good practise to do in loop \n",
    "    print(c.eval()) #This also works same, but cant used outside the loop, as only used inside the loop else gives error, inside the loop, it release the sessionObject ,not outside as we are not using sessionObject with it\n",
    "    print(d.eval())\n"
   ]
  },
  {
   "cell_type": "markdown",
   "id": "2c9f3ace-fd76-490f-868c-b05e40106de1",
   "metadata": {},
   "source": [
    "### Matrix Multiplication"
   ]
  },
  {
   "cell_type": "code",
   "execution_count": 17,
   "id": "a4e027bc-92ce-4146-a4cc-9b97539ad842",
   "metadata": {},
   "outputs": [
    {
     "data": {
      "text/plain": [
       "array([[18]])"
      ]
     },
     "execution_count": 17,
     "metadata": {},
     "output_type": "execute_result"
    }
   ],
   "source": [
    "# Using normal v2\n",
    "a1 = tf.constant([[3,3]])\n",
    "a2 = tf.constant([[3],\n",
    "                  [3]]) \n",
    "a3 = tf.matmul(a1,a2) #matmul-function used for matrix multiplication, would return same 2D-array tensorObject with ans \n",
    "a3\n",
    "#Also would be constant same as parent\n",
    "\n",
    "# Using session from v1 in v2\n",
    "tf.compat.v1.disable_eager_execution\n",
    "a4 = tf.matmul(a1,a2)\n",
    "sess = tf.compat.v1.Session()\n",
    "prdt = sess.run(a4)\n",
    "prdt"
   ]
  },
  {
   "cell_type": "code",
   "execution_count": 18,
   "id": "9caa36d4-f486-4fdf-9390-ce5c248aecfe",
   "metadata": {},
   "outputs": [
    {
     "name": "stdout",
     "output_type": "stream",
     "text": [
      "1526967632208\n"
     ]
    }
   ],
   "source": [
    "a = 4 # Here a is pointing to a address space\n",
    "# a = 5 # Here a is pointing to another address space not same as above, wonot overwrite\n",
    "print(id(a)) # Python would save the constant into another address space, irrespective of same identifier is used\n",
    "\n",
    "a = tf.constant(4)\n",
    "a = tf.constant(6)\n",
    "# Therefore from above, the above code is possible as a=both constant saved in different address "
   ]
  },
  {
   "cell_type": "markdown",
   "id": "4f9bcc90-9c31-4990-b3ce-079181ca3721",
   "metadata": {},
   "source": [
    "## Creating Variables"
   ]
  },
  {
   "cell_type": "code",
   "execution_count": 19,
   "id": "426cffea-1bd1-4c99-8d3d-3dd085442a1b",
   "metadata": {},
   "outputs": [
    {
     "name": "stdout",
     "output_type": "stream",
     "text": [
      "<tf.Variable 'Variable:0' shape=() dtype=int32>\n",
      "<tf.Variable 'Variable_1:0' shape=() dtype=int32>\n",
      "Tensor(\"add_8:0\", shape=(), dtype=int32)\n",
      "<tf.Variable 'AssignVariableOp' shape=() dtype=int32>\n",
      "<tf.Variable 'Variable:0' shape=() dtype=int32>\n"
     ]
    }
   ],
   "source": [
    "var1 = tf.Variable(100) #This would return tensorObject of variable type\n",
    "var2 = tf.Variable(5)\n",
    "var3 = var1 + var2 #After anyprocessing, irrespective whether tensorObjects or not, would return tensorObjects only \n",
    "print(var1)\n",
    "print(var2)\n",
    "print(var3)\n",
    "\n",
    "# .assign() method:\n",
    "print(var1.assign(12321)) #This would not create new-tensorVarobj, rather alter them in that tensor-varObj only \n",
    "#Above also return variableObjects\n",
    "print(var1)"
   ]
  },
  {
   "cell_type": "code",
   "execution_count": 61,
   "id": "d2348bce-c986-431c-b698-24e24171f3d9",
   "metadata": {},
   "outputs": [
    {
     "name": "stdout",
     "output_type": "stream",
     "text": [
      "250\n",
      "1232\n",
      "1282\n"
     ]
    },
    {
     "data": {
      "text/plain": [
       "343"
      ]
     },
     "execution_count": 61,
     "metadata": {},
     "output_type": "execute_result"
    }
   ],
   "source": [
    "# Using session\n",
    "vari1 = tf.Variable(200)\n",
    "vari2 = tf.Variable(50)\n",
    "vari3 = vari1 + vari2\n",
    "\n",
    "tf.compat.v1.disable_eager_execution() \n",
    "sess = tf.compat.v1.Session() \n",
    "# sess.run(vari3) #This would error, as bcz variables are not intiliased sessions required to do those processings,\n",
    "#but it does intilisation processing with constants but not with variables, in this case we have to do so explicitly from our side \n",
    "# Lets intlisae them:\n",
    "sess.run(tf.compat.v1.global_variables_initializer()) #In case of variable intilisation , have to call this command, which makes above variables as global\n",
    "# For creating local variables, we could pass customed scope\n",
    "print(sess.run(vari3)) # Now in this session variables can be assigned their values and processed\n",
    "\n",
    "#Now we could change the values from the same variables using assign operatoer\n",
    "#This would not create new-tensorVarobj, rather alter them in that tensor-varObj only \n",
    "#It also return variableObjects\n",
    "sess.run(vari1.assign(1232)) # Processed/implimented the working thorugh session, and \n",
    "print(sess.run(vari1))\n",
    "print(sess.run(vari3)) #Also sum changes\n",
    "var5 = tf.Variable(343)\n",
    "# sess.run(var5)\n",
    "sess.run(tf.compat.v1.global_variables_initializer()) #Before all intilisation of variable should be written else will not able to intiliased\n",
    "sess.run(var5)"
   ]
  },
  {
   "cell_type": "markdown",
   "id": "77a6817f-602e-4283-a949-f4b5459472cb",
   "metadata": {
    "tags": []
   },
   "source": [
    "## Placeholders"
   ]
  },
  {
   "cell_type": "code",
   "execution_count": 7,
   "id": "093f6f6e-218d-4e72-82b7-c428e44b586f",
   "metadata": {},
   "outputs": [
    {
     "name": "stdout",
     "output_type": "stream",
     "text": [
      "Tensor(\"Add_3:0\", shape=(1,), dtype=int32)\n",
      "Tensor(\"Placeholder_7:0\", shape=(1,), dtype=int32)\n",
      "Tensor(\"Placeholder_6:0\", shape=(1,), dtype=int32)\n",
      "[15]\n",
      "\n",
      "[15]\n"
     ]
    }
   ],
   "source": [
    "# Placeholder using tf_version 1x in 2x, as in tf.2x it has been depricated by migrating some codes from 1x to 2x\n",
    "# We could pass the value separetly, means its does not depend on any aspects for passing the value in the placeHolder of the variable \n",
    "import tensorflow as tf\n",
    "tf.compat.v1.disable_eager_execution() #migrating v1 commands here at v2 and disabling eagerness\n",
    "# tf.compat.v1 means,to use v1 coomands in v2\n",
    "# v2 is bydefault eager executer means sponatenius/immidiate execution followed here, but if we use placeholder then it wouldnot be executed, and give error, \n",
    "# -as its dosnot have anything to be executed, so we decide when to execute, which is when to pass number in it, then it should be executed  \n",
    "#To stop this ,used disable_eager_execution\n",
    "\n",
    "# For 2d 3d , give square bracket, as same when they intilised\n",
    "Z = tf.compat.v1.placeholder(dtype=tf.int32,shape=(1)) #Empty tensorObject placeholder \n",
    "Y = tf.compat.v1.placeholder(tf.int32,(1)) #AnotherWay #Another empty tensorObject placeholder\n",
    "W = tf.add(Z , Y) #Empty tensorObject\n",
    "print(W)\n",
    "print(Y)\n",
    "print(Z)\n",
    "# If we have not shape restriction better to be keep it NONE, is so then let the shape have its respective dimension\n",
    "sess = tf.compat.v1.Session() \n",
    "print(sess.run(W , feed_dict={Z:(5,),Y:(10,)}))\n",
    "print()\n",
    "with tf.compat.v1.Session() as sess:\n",
    "    print(sess.run(W, feed_dict={Z:(5,),Y:(10,)}))\n"
   ]
  },
  {
   "cell_type": "code",
   "execution_count": 15,
   "id": "f2b84a79-93db-4d62-86c9-a7a1de4b48c3",
   "metadata": {},
   "outputs": [
    {
     "name": "stdout",
     "output_type": "stream",
     "text": [
      "[30, 15]\n"
     ]
    },
    {
     "data": {
      "text/plain": [
       "array([[ 6,  9, 12],\n",
       "       [ 3,  6,  9]])"
      ]
     },
     "execution_count": 15,
     "metadata": {},
     "output_type": "execute_result"
    }
   ],
   "source": [
    "X = tf.compat.v1.placeholder(dtype=tf.int32)\n",
    "Y = tf.constant(3)\n",
    "V = X*Y\n",
    "W = V//2\n",
    "# tf.compat.v1.disable_eager_execution\n",
    "sess = tf.compat.v1.Session()\n",
    "print(sess.run([V,W],feed_dict={X:10})) # When feed_dict comes, then put rest in squareBrackets, for difference, else will give error \n",
    "sess.run(V,feed_dict={X:[[2,3,4],[1,2,3]]}) # Placeholder doenot save the value, so when using always have to pass feed_dict in session.run"
   ]
  },
  {
   "cell_type": "code",
   "execution_count": 185,
   "id": "f55fe62b-e3fb-4993-8791-7b6065b08b9f",
   "metadata": {},
   "outputs": [
    {
     "data": {
      "text/plain": [
       "'\\ntf.keras.Model: Creates a model using the specified inputs (X) and outputs (dense_layer).\\nNow here in this model, we could train it and test it with our datasets, only by fit and predict, we could give training and testing features to the input_placeholder \\n'"
      ]
     },
     "execution_count": 185,
     "metadata": {},
     "output_type": "execute_result"
    }
   ],
   "source": [
    "# Placeholder using keras of tf.2x, mostly used in neuralnetworks, \n",
    "# but issues we cant pass the value separetly in it, we have pass it while model training or testing\n",
    "\"\"\"\n",
    "X = tf.placeholder(tf.int32) #implimnetation , depreived from tf.2x\n",
    "Place holder are required to feed the value dynamically during execution in already formed empty variable \n",
    "tf.keras.Input: This is a function in TensorFlow 2.x used to define input placeholders for neural network models. It is an alternative to the deprecated tf.placeholder in TensorFlow 1.x.\n",
    "\"\"\"\n",
    "# Create a placeholder for integer input with shape\n",
    "num_features = 3  # Example: If each sample has 3 features\n",
    "X = tf.keras.Input(shape=(num_features,), dtype=tf.int32, name='input_placeholder') #Empty varObject intiliased\n",
    "\"\"\"\n",
    "tf.keras.Input: This is a function in TensorFlow 2.x used to define input placeholders for neural network models. It is an alternative to the deprecated tf.placeholder in TensorFlow 1.x.\n",
    "The shape=(num_features,) argument specifies that each input sample has a shape of (num_features,), and the None in the shape indicates that the batch size can vary. \n",
    "dtype=tf.int32: This sets the data type of the input placeholder to 32-bit integers.\n",
    "name='input_placeholder': This provides a name to the input placeholder for easy identification.\n",
    "\"\"\"\n",
    "# For usecase_ex :Define a simple neural network model using the placeholder\n",
    "dense_layer = tf.keras.layers.Dense(units=1, activation='linear')(X) #this layer would take X as input\n",
    "\"\"\"\n",
    "tf.keras.layers.Dense: This is a fully connected (dense) layer in a neural network. It is defined with one unit and a linear activation function.(no activation)\n",
    "(X): This connects the dense layer to the input placeholder X. This is how you specify the input to the model.\n",
    "\"\"\"\n",
    "model = tf.keras.Model(inputs=X, outputs=dense_layer)\n",
    "\"\"\"\n",
    "tf.keras.Model: Creates a model using the specified inputs (X) and outputs (dense_layer).\n",
    "Now here in this model, we could train it and test it with our datasets, only by fit and predict, we could give training and testing features to the input_placeholder \n",
    "\"\"\"\n"
   ]
  }
 ],
 "metadata": {
  "kernelspec": {
   "display_name": "Python 3 (ipykernel)",
   "language": "python",
   "name": "python3"
  },
  "language_info": {
   "codemirror_mode": {
    "name": "ipython",
    "version": 3
   },
   "file_extension": ".py",
   "mimetype": "text/x-python",
   "name": "python",
   "nbconvert_exporter": "python",
   "pygments_lexer": "ipython3",
   "version": "3.10.9"
  }
 },
 "nbformat": 4,
 "nbformat_minor": 5
}
