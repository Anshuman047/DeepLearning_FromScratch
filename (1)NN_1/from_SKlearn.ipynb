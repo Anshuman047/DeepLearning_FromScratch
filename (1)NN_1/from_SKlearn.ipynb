{
 "cells": [
  {
   "cell_type": "markdown",
   "id": "5454d83e-91c0-4491-8eed-534dc07ae098",
   "metadata": {
    "tags": []
   },
   "source": [
    "# Implimentation of NN from \"sklearn\" on iris_dataset"
   ]
  },
  {
   "cell_type": "code",
   "execution_count": 3,
   "id": "f2a26ef7-7683-414f-bad9-0dcd47caa608",
   "metadata": {},
   "outputs": [],
   "source": [
    "# Importing important libraries\n",
    "from sklearn import datasets\n",
    "from sklearn.model_selection import train_test_split"
   ]
  },
  {
   "cell_type": "code",
   "execution_count": 4,
   "id": "de527969-edca-4505-b374-b88ea13f1014",
   "metadata": {},
   "outputs": [],
   "source": [
    "# Loading datasets\n",
    "iris = datasets.load_iris()"
   ]
  },
  {
   "cell_type": "code",
   "execution_count": 5,
   "id": "e65d6d2b-a529-471a-8419-0824c2b95eb3",
   "metadata": {},
   "outputs": [],
   "source": [
    "# Segregating features and targets\n",
    "X = iris.data\n",
    "Y = iris.target"
   ]
  },
  {
   "cell_type": "code",
   "execution_count": 6,
   "id": "0522760a-b0eb-48ea-9327-22be6459988b",
   "metadata": {},
   "outputs": [],
   "source": [
    "# Splitting into training and testing\n",
    "X_train, X_test, Y_train, Y_test = train_test_split(X,Y,random_state=1) "
   ]
  },
  {
   "cell_type": "code",
   "execution_count": 7,
   "id": "65c5ac12-c9b7-488b-a37f-99c5fbeb7165",
   "metadata": {},
   "outputs": [
    {
     "data": {
      "text/plain": [
       "array([1, 2, 2, 0, 2, 2, 1, 2, 0, 0, 0, 1, 0, 0, 2, 2, 2, 2, 2, 1, 2, 1,\n",
       "       0, 2, 2, 0, 0, 2, 0, 2, 2, 1, 1, 2, 2, 0, 1, 1, 2, 1, 2, 1, 0, 0,\n",
       "       0, 2, 0, 1, 2, 2, 0, 0, 1, 0, 2, 1, 2, 2, 1, 2, 2, 1, 0, 1, 0, 1,\n",
       "       1, 0, 1, 0, 0, 2, 2, 2, 0, 0, 1, 0, 2, 0, 2, 2, 0, 2, 0, 1, 0, 1,\n",
       "       1, 0, 0, 1, 0, 1, 1, 0, 1, 1, 1, 1, 2, 0, 0, 2, 1, 2, 1, 2, 2, 1,\n",
       "       2, 0])"
      ]
     },
     "execution_count": 7,
     "metadata": {},
     "output_type": "execute_result"
    }
   ],
   "source": [
    "Y_train #Y_train is not one-hot encoded, it would be encoded from the algorithm used here "
   ]
  },
  {
   "cell_type": "markdown",
   "id": "7af44e4e-6315-41bf-8236-7ebe15cd9f03",
   "metadata": {},
   "source": [
    "## Importing the MLPClassifier from sklearn module from NN library, basically each neuron we calling are known as Perceptron only, here we imported MultiLayered Perceptron"
   ]
  },
  {
   "cell_type": "code",
   "execution_count": 8,
   "id": "359e8a37-d829-43f7-87fd-c2f46d74e31d",
   "metadata": {},
   "outputs": [
    {
     "name": "stderr",
     "output_type": "stream",
     "text": [
      "C:\\Users\\KIIT\\anaconda3\\lib\\site-packages\\sklearn\\neural_network\\_multilayer_perceptron.py:691: ConvergenceWarning: Stochastic Optimizer: Maximum iterations (200) reached and the optimization hasn't converged yet.\n",
      "  warnings.warn(\n"
     ]
    },
    {
     "data": {
      "text/html": [
       "<style>#sk-container-id-1 {color: black;}#sk-container-id-1 pre{padding: 0;}#sk-container-id-1 div.sk-toggleable {background-color: white;}#sk-container-id-1 label.sk-toggleable__label {cursor: pointer;display: block;width: 100%;margin-bottom: 0;padding: 0.3em;box-sizing: border-box;text-align: center;}#sk-container-id-1 label.sk-toggleable__label-arrow:before {content: \"▸\";float: left;margin-right: 0.25em;color: #696969;}#sk-container-id-1 label.sk-toggleable__label-arrow:hover:before {color: black;}#sk-container-id-1 div.sk-estimator:hover label.sk-toggleable__label-arrow:before {color: black;}#sk-container-id-1 div.sk-toggleable__content {max-height: 0;max-width: 0;overflow: hidden;text-align: left;background-color: #f0f8ff;}#sk-container-id-1 div.sk-toggleable__content pre {margin: 0.2em;color: black;border-radius: 0.25em;background-color: #f0f8ff;}#sk-container-id-1 input.sk-toggleable__control:checked~div.sk-toggleable__content {max-height: 200px;max-width: 100%;overflow: auto;}#sk-container-id-1 input.sk-toggleable__control:checked~label.sk-toggleable__label-arrow:before {content: \"▾\";}#sk-container-id-1 div.sk-estimator input.sk-toggleable__control:checked~label.sk-toggleable__label {background-color: #d4ebff;}#sk-container-id-1 div.sk-label input.sk-toggleable__control:checked~label.sk-toggleable__label {background-color: #d4ebff;}#sk-container-id-1 input.sk-hidden--visually {border: 0;clip: rect(1px 1px 1px 1px);clip: rect(1px, 1px, 1px, 1px);height: 1px;margin: -1px;overflow: hidden;padding: 0;position: absolute;width: 1px;}#sk-container-id-1 div.sk-estimator {font-family: monospace;background-color: #f0f8ff;border: 1px dotted black;border-radius: 0.25em;box-sizing: border-box;margin-bottom: 0.5em;}#sk-container-id-1 div.sk-estimator:hover {background-color: #d4ebff;}#sk-container-id-1 div.sk-parallel-item::after {content: \"\";width: 100%;border-bottom: 1px solid gray;flex-grow: 1;}#sk-container-id-1 div.sk-label:hover label.sk-toggleable__label {background-color: #d4ebff;}#sk-container-id-1 div.sk-serial::before {content: \"\";position: absolute;border-left: 1px solid gray;box-sizing: border-box;top: 0;bottom: 0;left: 50%;z-index: 0;}#sk-container-id-1 div.sk-serial {display: flex;flex-direction: column;align-items: center;background-color: white;padding-right: 0.2em;padding-left: 0.2em;position: relative;}#sk-container-id-1 div.sk-item {position: relative;z-index: 1;}#sk-container-id-1 div.sk-parallel {display: flex;align-items: stretch;justify-content: center;background-color: white;position: relative;}#sk-container-id-1 div.sk-item::before, #sk-container-id-1 div.sk-parallel-item::before {content: \"\";position: absolute;border-left: 1px solid gray;box-sizing: border-box;top: 0;bottom: 0;left: 50%;z-index: -1;}#sk-container-id-1 div.sk-parallel-item {display: flex;flex-direction: column;z-index: 1;position: relative;background-color: white;}#sk-container-id-1 div.sk-parallel-item:first-child::after {align-self: flex-end;width: 50%;}#sk-container-id-1 div.sk-parallel-item:last-child::after {align-self: flex-start;width: 50%;}#sk-container-id-1 div.sk-parallel-item:only-child::after {width: 0;}#sk-container-id-1 div.sk-dashed-wrapped {border: 1px dashed gray;margin: 0 0.4em 0.5em 0.4em;box-sizing: border-box;padding-bottom: 0.4em;background-color: white;}#sk-container-id-1 div.sk-label label {font-family: monospace;font-weight: bold;display: inline-block;line-height: 1.2em;}#sk-container-id-1 div.sk-label-container {text-align: center;}#sk-container-id-1 div.sk-container {/* jupyter's `normalize.less` sets `[hidden] { display: none; }` but bootstrap.min.css set `[hidden] { display: none !important; }` so we also need the `!important` here to be able to override the default hidden behavior on the sphinx rendered scikit-learn.org. See: https://github.com/scikit-learn/scikit-learn/issues/21755 */display: inline-block !important;position: relative;}#sk-container-id-1 div.sk-text-repr-fallback {display: none;}</style><div id=\"sk-container-id-1\" class=\"sk-top-container\"><div class=\"sk-text-repr-fallback\"><pre>MLPClassifier()</pre><b>In a Jupyter environment, please rerun this cell to show the HTML representation or trust the notebook. <br />On GitHub, the HTML representation is unable to render, please try loading this page with nbviewer.org.</b></div><div class=\"sk-container\" hidden><div class=\"sk-item\"><div class=\"sk-estimator sk-toggleable\"><input class=\"sk-toggleable__control sk-hidden--visually\" id=\"sk-estimator-id-1\" type=\"checkbox\" checked><label for=\"sk-estimator-id-1\" class=\"sk-toggleable__label sk-toggleable__label-arrow\">MLPClassifier</label><div class=\"sk-toggleable__content\"><pre>MLPClassifier()</pre></div></div></div></div></div>"
      ],
      "text/plain": [
       "MLPClassifier()"
      ]
     },
     "execution_count": 8,
     "metadata": {},
     "output_type": "execute_result"
    }
   ],
   "source": [
    "from sklearn.neural_network import MLPClassifier\n",
    "clf = MLPClassifier() # Made a object of MLPClassifier\n",
    "clf.fit(X_train, Y_train) # It would take care for one_hot endcoding"
   ]
  },
  {
   "cell_type": "code",
   "execution_count": 9,
   "id": "b795e2bf-114a-4233-afee-5cf49ca9839c",
   "metadata": {},
   "outputs": [
    {
     "data": {
      "text/plain": [
       "0.9473684210526315"
      ]
     },
     "execution_count": 9,
     "metadata": {},
     "output_type": "execute_result"
    }
   ],
   "source": [
    "clf.score(X_test,Y_test)"
   ]
  },
  {
   "cell_type": "markdown",
   "id": "49e680ac-0c26-4d93-a369-03c5423227e4",
   "metadata": {},
   "source": [
    "### 1)The above box telling that the model does not convergened to lowest minima from Graadient descent from default iterations that is 200.\n",
    "### 2)hidden_layer_sizes=(): is the attribute passed while trainin, its a tupple, every place represents that indexth hidden-layer in the model : ex (100,) which is deafult means one layer only with 100 neurons, ex: (100,200,300) means 3 hidden-layers with 100, 200,300 neurons respectively\n",
    "### 3)Deafult activation function used here is relu\n",
    "### 4)Default is Stochastic GD, means once from all datapoints, and update the weights\n",
    "### 5)Early stopping to avoid overfitting, which is false by defualt\n",
    "### 6)Default max_iterations is 200"
   ]
  },
  {
   "cell_type": "code",
   "execution_count": 10,
   "id": "72760f3b-a3b7-48e3-8b5f-07e923dc753c",
   "metadata": {},
   "outputs": [
    {
     "data": {
      "text/html": [
       "<style>#sk-container-id-2 {color: black;}#sk-container-id-2 pre{padding: 0;}#sk-container-id-2 div.sk-toggleable {background-color: white;}#sk-container-id-2 label.sk-toggleable__label {cursor: pointer;display: block;width: 100%;margin-bottom: 0;padding: 0.3em;box-sizing: border-box;text-align: center;}#sk-container-id-2 label.sk-toggleable__label-arrow:before {content: \"▸\";float: left;margin-right: 0.25em;color: #696969;}#sk-container-id-2 label.sk-toggleable__label-arrow:hover:before {color: black;}#sk-container-id-2 div.sk-estimator:hover label.sk-toggleable__label-arrow:before {color: black;}#sk-container-id-2 div.sk-toggleable__content {max-height: 0;max-width: 0;overflow: hidden;text-align: left;background-color: #f0f8ff;}#sk-container-id-2 div.sk-toggleable__content pre {margin: 0.2em;color: black;border-radius: 0.25em;background-color: #f0f8ff;}#sk-container-id-2 input.sk-toggleable__control:checked~div.sk-toggleable__content {max-height: 200px;max-width: 100%;overflow: auto;}#sk-container-id-2 input.sk-toggleable__control:checked~label.sk-toggleable__label-arrow:before {content: \"▾\";}#sk-container-id-2 div.sk-estimator input.sk-toggleable__control:checked~label.sk-toggleable__label {background-color: #d4ebff;}#sk-container-id-2 div.sk-label input.sk-toggleable__control:checked~label.sk-toggleable__label {background-color: #d4ebff;}#sk-container-id-2 input.sk-hidden--visually {border: 0;clip: rect(1px 1px 1px 1px);clip: rect(1px, 1px, 1px, 1px);height: 1px;margin: -1px;overflow: hidden;padding: 0;position: absolute;width: 1px;}#sk-container-id-2 div.sk-estimator {font-family: monospace;background-color: #f0f8ff;border: 1px dotted black;border-radius: 0.25em;box-sizing: border-box;margin-bottom: 0.5em;}#sk-container-id-2 div.sk-estimator:hover {background-color: #d4ebff;}#sk-container-id-2 div.sk-parallel-item::after {content: \"\";width: 100%;border-bottom: 1px solid gray;flex-grow: 1;}#sk-container-id-2 div.sk-label:hover label.sk-toggleable__label {background-color: #d4ebff;}#sk-container-id-2 div.sk-serial::before {content: \"\";position: absolute;border-left: 1px solid gray;box-sizing: border-box;top: 0;bottom: 0;left: 50%;z-index: 0;}#sk-container-id-2 div.sk-serial {display: flex;flex-direction: column;align-items: center;background-color: white;padding-right: 0.2em;padding-left: 0.2em;position: relative;}#sk-container-id-2 div.sk-item {position: relative;z-index: 1;}#sk-container-id-2 div.sk-parallel {display: flex;align-items: stretch;justify-content: center;background-color: white;position: relative;}#sk-container-id-2 div.sk-item::before, #sk-container-id-2 div.sk-parallel-item::before {content: \"\";position: absolute;border-left: 1px solid gray;box-sizing: border-box;top: 0;bottom: 0;left: 50%;z-index: -1;}#sk-container-id-2 div.sk-parallel-item {display: flex;flex-direction: column;z-index: 1;position: relative;background-color: white;}#sk-container-id-2 div.sk-parallel-item:first-child::after {align-self: flex-end;width: 50%;}#sk-container-id-2 div.sk-parallel-item:last-child::after {align-self: flex-start;width: 50%;}#sk-container-id-2 div.sk-parallel-item:only-child::after {width: 0;}#sk-container-id-2 div.sk-dashed-wrapped {border: 1px dashed gray;margin: 0 0.4em 0.5em 0.4em;box-sizing: border-box;padding-bottom: 0.4em;background-color: white;}#sk-container-id-2 div.sk-label label {font-family: monospace;font-weight: bold;display: inline-block;line-height: 1.2em;}#sk-container-id-2 div.sk-label-container {text-align: center;}#sk-container-id-2 div.sk-container {/* jupyter's `normalize.less` sets `[hidden] { display: none; }` but bootstrap.min.css set `[hidden] { display: none !important; }` so we also need the `!important` here to be able to override the default hidden behavior on the sphinx rendered scikit-learn.org. See: https://github.com/scikit-learn/scikit-learn/issues/21755 */display: inline-block !important;position: relative;}#sk-container-id-2 div.sk-text-repr-fallback {display: none;}</style><div id=\"sk-container-id-2\" class=\"sk-top-container\"><div class=\"sk-text-repr-fallback\"><pre>MLPClassifier(hidden_layer_sizes=20, max_iter=3000)</pre><b>In a Jupyter environment, please rerun this cell to show the HTML representation or trust the notebook. <br />On GitHub, the HTML representation is unable to render, please try loading this page with nbviewer.org.</b></div><div class=\"sk-container\" hidden><div class=\"sk-item\"><div class=\"sk-estimator sk-toggleable\"><input class=\"sk-toggleable__control sk-hidden--visually\" id=\"sk-estimator-id-2\" type=\"checkbox\" checked><label for=\"sk-estimator-id-2\" class=\"sk-toggleable__label sk-toggleable__label-arrow\">MLPClassifier</label><div class=\"sk-toggleable__content\"><pre>MLPClassifier(hidden_layer_sizes=20, max_iter=3000)</pre></div></div></div></div></div>"
      ],
      "text/plain": [
       "MLPClassifier(hidden_layer_sizes=20, max_iter=3000)"
      ]
     },
     "execution_count": 10,
     "metadata": {},
     "output_type": "execute_result"
    }
   ],
   "source": [
    "# Lets train the classifier with above parameters:\n",
    "clf2 = MLPClassifier(hidden_layer_sizes = (20), max_iter=(3000)) # Made a object of MLPClassifier\n",
    "clf2.fit(X_train, Y_train) # It would take care for one_hot endcoding\n",
    "# By adding more iterations , now the model has converged to the lowest minima"
   ]
  },
  {
   "cell_type": "code",
   "execution_count": 11,
   "id": "a119bcfb-c3eb-4b87-8eb8-279851461f5c",
   "metadata": {},
   "outputs": [
    {
     "data": {
      "text/plain": [
       "0.9736842105263158"
      ]
     },
     "execution_count": 11,
     "metadata": {},
     "output_type": "execute_result"
    }
   ],
   "source": [
    "clf2.score(X_test,Y_test) #Model has accurately predicted the testin data"
   ]
  },
  {
   "cell_type": "code",
   "execution_count": 12,
   "id": "6e52c70f-51f3-4f49-9c30-60716e008306",
   "metadata": {},
   "outputs": [
    {
     "data": {
      "text/plain": [
       "[array([[-1.32395113e-01,  1.68384524e-01,  1.52044819e-07,\n",
       "         -1.54970282e-01,  1.82677271e-01,  4.56257729e-01,\n",
       "          9.87705417e-02, -2.64862171e-01,  2.61773982e-01,\n",
       "          4.62040972e-17, -8.50527634e-02,  4.43925582e-02,\n",
       "          7.53974139e-01,  1.88059096e-01, -3.17081211e-01,\n",
       "          1.71062041e-01,  2.04355154e-01, -5.51993366e-02,\n",
       "          4.97264608e-01,  3.96665489e-02],\n",
       "        [-1.74095843e-01,  9.15536349e-02, -2.80732106e-05,\n",
       "          4.23719141e-01,  4.06865406e-01, -4.32456240e-01,\n",
       "         -4.20573625e-01,  3.78540944e-01, -4.69947659e-01,\n",
       "         -3.44823137e-02,  1.24132130e-01, -8.20643374e-02,\n",
       "         -5.67728013e-02, -4.05237282e-01, -7.49993524e-01,\n",
       "          6.22184752e-01, -1.41089691e-01, -1.31726228e-02,\n",
       "          5.93686408e-01,  2.76726706e-01],\n",
       "        [ 6.53444200e-01,  2.28547892e-01, -9.95534373e-03,\n",
       "         -3.46672805e-01, -6.04526787e-01, -1.69594443e-01,\n",
       "          1.25198525e-01,  4.61242300e-01,  7.70872706e-01,\n",
       "         -2.77903386e-03,  3.42768191e-01,  3.54708318e-01,\n",
       "         -6.82104889e-01,  8.00027795e-01,  9.27731902e-01,\n",
       "         -6.72780902e-01, -3.10890099e-01, -5.58224245e-03,\n",
       "         -7.11967034e-01,  6.41889065e-01],\n",
       "        [ 3.20149378e-01, -4.02742303e-01, -3.37796416e-03,\n",
       "         -4.25357423e-01, -5.32889862e-01,  3.27436459e-01,\n",
       "         -9.63445382e-02,  3.53456818e-01,  3.15965221e-01,\n",
       "          2.41552539e-19, -4.56909777e-01, -1.35587215e-01,\n",
       "         -5.69590864e-01,  6.69926390e-01,  5.69006067e-01,\n",
       "         -7.11073835e-01,  2.99746609e-01, -3.08019579e-03,\n",
       "         -8.02406415e-01,  3.55488268e-01]]),\n",
       " array([[-9.25372722e-01, -1.59628377e-01,  3.29450529e-01],\n",
       "        [ 3.79205442e-01,  1.49630070e-01, -4.08691141e-01],\n",
       "        [-1.46167175e-19, -1.87457297e-04,  1.54501397e-02],\n",
       "        [ 2.46378593e-01,  3.52888322e-01,  4.26342623e-01],\n",
       "        [ 7.87844636e-01, -9.64623614e-01, -4.41465227e-01],\n",
       "        [ 1.89011672e-01,  2.36980528e-01, -1.50901900e-01],\n",
       "        [ 2.23564308e-01,  1.79921908e-01, -3.98160880e-01],\n",
       "        [-3.52430694e-01, -5.77020784e-01, -1.09436737e-01],\n",
       "        [-1.38037010e-01,  3.95386887e-01,  2.22244561e-01],\n",
       "        [-1.89173933e-02,  3.22060939e-02,  3.12183548e-03],\n",
       "        [-1.70859145e-01,  1.14320475e-01, -1.05840001e-01],\n",
       "        [-4.45094075e-02,  4.57592866e-01, -1.57704417e-01],\n",
       "        [ 4.53102886e-01,  9.88532108e-01, -8.57343703e-01],\n",
       "        [-4.25027405e-01,  2.80042943e-03,  1.54696510e-01],\n",
       "        [ 6.56776126e-02, -6.14046190e-01,  7.12891090e-01],\n",
       "        [ 7.74178959e-01, -6.90689938e-01, -2.65248518e-01],\n",
       "        [-3.10902180e-01, -5.05068406e-01,  2.89628934e-01],\n",
       "        [-3.32766038e-02, -1.72370639e-02,  3.31924041e-03],\n",
       "        [ 9.48551704e-01,  9.22621201e-01, -9.13178070e-01],\n",
       "        [ 2.17221809e-02, -9.85114448e-02,  2.90257366e-01]])]"
      ]
     },
     "execution_count": 12,
     "metadata": {},
     "output_type": "execute_result"
    }
   ],
   "source": [
    "# Would returns the optimum-weight excluding the weights of biases corresponding to each features\n",
    "clf2.coefs_ # Will return list, which will have 2 matrixes in it\n",
    "# First contains the wieghts of hidden layer from input layers\n",
    "# Second contaains the weights for outputlayer"
   ]
  },
  {
   "cell_type": "code",
   "execution_count": 13,
   "id": "420a3b17-bea0-46d2-b3fa-c25d45bbb54d",
   "metadata": {},
   "outputs": [
    {
     "data": {
      "text/plain": [
       "2"
      ]
     },
     "execution_count": 13,
     "metadata": {},
     "output_type": "execute_result"
    }
   ],
   "source": [
    "len(clf2.coefs_) # 2 matrixes"
   ]
  },
  {
   "cell_type": "code",
   "execution_count": 15,
   "id": "e644f0c7-9bcd-4347-ba7e-4bfdd80865c2",
   "metadata": {},
   "outputs": [
    {
     "data": {
      "text/plain": [
       "(4, 20)"
      ]
     },
     "execution_count": 15,
     "metadata": {},
     "output_type": "execute_result"
    }
   ],
   "source": [
    "clf2.coefs_[0].shape # optimum weights of each input neurons out of 4 input featureneuron to each hidden neuron from hidden_layers 20 neuron"
   ]
  },
  {
   "cell_type": "code",
   "execution_count": 42,
   "id": "1df61443-04ab-47e3-95a2-ccc5930498e8",
   "metadata": {},
   "outputs": [
    {
     "data": {
      "text/plain": [
       "(20, 3)"
      ]
     },
     "execution_count": 42,
     "metadata": {},
     "output_type": "execute_result"
    }
   ],
   "source": [
    "clf2.coefs_[1].shape # Optimum weights of each hidden_leayrs 20 neuron to each output neuron outof 3 output neuron"
   ]
  },
  {
   "cell_type": "code",
   "execution_count": 49,
   "id": "b0bcc91b-24a0-4d9c-ad38-50f020c82688",
   "metadata": {},
   "outputs": [
    {
     "name": "stdout",
     "output_type": "stream",
     "text": [
      "(20,)\n"
     ]
    },
    {
     "data": {
      "text/plain": [
       "(3,)"
      ]
     },
     "execution_count": 49,
     "metadata": {},
     "output_type": "execute_result"
    }
   ],
   "source": [
    "# Now lets check the optimum weights of each biases which is also known as biases\n",
    "print(clf2.intercepts_[0].shape) #20 intercepts , \n",
    "clf2.intercepts_[1].shape # 3intercepts"
   ]
  }
 ],
 "metadata": {
  "kernelspec": {
   "display_name": "Python 3 (ipykernel)",
   "language": "python",
   "name": "python3"
  },
  "language_info": {
   "codemirror_mode": {
    "name": "ipython",
    "version": 3
   },
   "file_extension": ".py",
   "mimetype": "text/x-python",
   "name": "python",
   "nbconvert_exporter": "python",
   "pygments_lexer": "ipython3",
   "version": "3.10.9"
  }
 },
 "nbformat": 4,
 "nbformat_minor": 5
}
